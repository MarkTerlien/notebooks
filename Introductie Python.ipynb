{
  "cells": [
    {
      "cell_type": "markdown",
      "metadata": {
        "colab_type": "text",
        "id": "R0PEPezCUfeO",
        "toc-hr-collapsed": false
      },
      "source": [
        "# Data verwerking met Python\n",
        "\n",
        "Python is een populaire programmeertaal die bedacht is door Guido van Rossum in 1991. \n",
        "\n",
        "Python kan gebruikt worden voor:\n",
        "- Maken van web applicaties\n",
        "- Automatiseren van data verwerking\n",
        "- Verbinden met databases en het lezen en schrijven van (GIS-)bestanden\n",
        "- Data analyse en machine learning\n",
        "\n",
        "Python heeft een aantal voordelen:\n",
        "- Python werkt op verschillende platformen (Windows, Mac en Linux)\n",
        "- Python heeft een eenvoudige syntax\n",
        "- Python is erg geschikt voor protoyping\n",
        "- In Python is het mogelijk om zowel procedureel als object geörienteerd te werken\n",
        "- Er zijn veel bibliotheken beschikbaar om de functionaliteit uit te breiden\n",
        "\n",
        "Een uitgebreide introductie over programmeren in Python vind je [hier](http://greenteapress.com/thinkpython2/thinkpython2.pdf).\n",
        "\n",
        "Een eenvoudige Python tutorial met voorbeelden vind je [hier](https://www.w3schools.com/python/).\n",
        "\n",
        "\n",
        "<br/>\n",
        "\n",
        "\n",
        "\n",
        "## Importeren van libraries\n",
        "\n",
        "Om de functionaliteit van Python uit te breiden kun je libraries installeren. Veelgebruikte libraries voor data verwerking van geografische gegevens zijn *gdal* en *numpy*. Je kunt deze libraries importeren met de functie `import`. Libraries worden ook wel modules genoemd."
      ]
    },
    {
      "cell_type": "code",
      "execution_count": null,
      "metadata": {
        "colab": {
          "base_uri": "https://localhost:8080/",
          "height": 71
        },
        "colab_type": "code",
        "id": "C9Wplrp-UfeP",
        "outputId": "fb160806-1e3e-4ba5-b32e-b4528673b746",
        "tags": [],
        "trusted": true
      },
      "outputs": [],
      "source": [
        "import math\n",
        "\n",
        "print(type(math))\n",
        "print(dir(math))"
      ]
    },
    {
      "cell_type": "markdown",
      "metadata": {
        "colab_type": "text",
        "id": "bdDxaDwDUfeU"
      },
      "source": [
        "## Commentaar in Python\n",
        "\n",
        "Een goede programmeur voorziet zijn code van commentaar. Commentaar geeft toelichting op de code zodat deze ook van andere programmeurs te begrijpen is. In Python moet een commentaarregel voorafgegaan worden door een `#`."
      ]
    },
    {
      "cell_type": "code",
      "execution_count": null,
      "metadata": {
        "colab": {},
        "colab_type": "code",
        "id": "6bL6OUeJUfeV",
        "tags": [],
        "trusted": true
      },
      "outputs": [],
      "source": [
        "print('Deze regel wordt geprint omdat dit geen commentaarregel is')\n",
        "# print('Deze regel wordt niet geprint omdat dit een commentaarregel is')"
      ]
    },
    {
      "cell_type": "markdown",
      "metadata": {
        "colab_type": "text",
        "id": "KnB0oxSoUfeX",
        "toc-hr-collapsed": false
      },
      "source": [
        "# Variabelen en data types in Python\n",
        "\n",
        "Een variabele is een stukje gereserveerd geheugen in een computer om waardes op te slaan. Het data type van een variabele bepaalt welke bewerkingen op een variabele uitgevoerd mogen worden. Bekende data types zijn:\n",
        "- string voor de opslag van tekst (bijv. \"Hello world\")\n",
        "- integer voor de opslag van gehele getallen (bijv. 5)\n",
        "- float voor de opslag van decimale getallen (bijv. 5.5)\n",
        "- boolean voor de opslag van true of false\n",
        "\n",
        "In Python wordt het data type van een variabele bepaalt als je de variabele een waarde geeft "
      ]
    },
    {
      "cell_type": "code",
      "execution_count": 2,
      "metadata": {
        "colab": {},
        "colab_type": "code",
        "id": "hKdDAFc3UfeY",
        "tags": [],
        "trusted": true
      },
      "outputs": [
        {
          "name": "stdout",
          "output_type": "stream",
          "text": [
            "Hello world\n",
            "<class 'str'>\n",
            "<class 'int'>\n"
          ]
        }
      ],
      "source": [
        "x = 'Hello world'\n",
        "print(x)\n",
        "print(type(x))\n",
        "x = 5\n",
        "print(type(x))"
      ]
    },
    {
      "cell_type": "code",
      "execution_count": null,
      "metadata": {
        "colab": {},
        "colab_type": "code",
        "id": "mGBWADwQUfea",
        "tags": [],
        "trusted": true
      },
      "outputs": [],
      "source": [
        "y = 5\n",
        "print(type(y))"
      ]
    },
    {
      "cell_type": "code",
      "execution_count": null,
      "metadata": {
        "colab": {},
        "colab_type": "code",
        "id": "BlwUNdZ1Ufed",
        "tags": [],
        "trusted": true
      },
      "outputs": [],
      "source": [
        "z = 5.5\n",
        "print(type(z))"
      ]
    },
    {
      "cell_type": "code",
      "execution_count": null,
      "metadata": {
        "colab": {},
        "colab_type": "code",
        "id": "WHCYH4IMUfef",
        "tags": [],
        "trusted": true
      },
      "outputs": [],
      "source": [
        "a = True\n",
        "print(type(a))"
      ]
    },
    {
      "cell_type": "markdown",
      "metadata": {
        "colab_type": "text",
        "id": "opx58pnnUfei",
        "toc-hr-collapsed": true
      },
      "source": [
        "## Werken met strings\n",
        "\n",
        "Een string staat altijd tussen enkele quotes of dubbele quotes. Het toekennen van een string aan een variabele gebeurt met het = teken."
      ]
    },
    {
      "cell_type": "code",
      "execution_count": null,
      "metadata": {
        "colab": {},
        "colab_type": "code",
        "id": "whqfowyHUfej",
        "trusted": false
      },
      "outputs": [],
      "source": [
        "x = 'Hello world'\n",
        "print(x)"
      ]
    },
    {
      "cell_type": "markdown",
      "metadata": {
        "colab_type": "text",
        "id": "oZlGnpNWUfel"
      },
      "source": [
        "met het + teken kan je twee strings aan elkaar koppelen"
      ]
    },
    {
      "cell_type": "code",
      "execution_count": null,
      "metadata": {
        "colab": {},
        "colab_type": "code",
        "id": "KvtrsozzUfel",
        "tags": [],
        "trusted": false
      },
      "outputs": [],
      "source": [
        "x = 'Hello '\n",
        "y = 'world'\n",
        "z = x + y + ' gggg'\n",
        "print(z)"
      ]
    },
    {
      "cell_type": "markdown",
      "metadata": {
        "colab_type": "text",
        "id": "TrRBmm2fUfen"
      },
      "source": [
        "Een string kan beschouwd worden als een lijst van karakters waardoor je eenvoudig karakters uit een string kan halen.\n",
        "\n",
        "**Let op:** Programmeurs beginnen bij 0 te tellen!"
      ]
    },
    {
      "cell_type": "code",
      "execution_count": null,
      "metadata": {
        "colab": {},
        "colab_type": "code",
        "id": "vNjCxlRkUfeo",
        "tags": [],
        "trusted": false
      },
      "outputs": [],
      "source": [
        "x = 'Hello world'\n",
        "print(x[2])"
      ]
    },
    {
      "cell_type": "markdown",
      "metadata": {
        "colab_type": "text",
        "id": "NL113xYCUfeq"
      },
      "source": [
        "Het is ook mogelijk om een range van karakters te selecteren. In het volgende voorbeeld worden de eerste vijf karakters geselecteerd."
      ]
    },
    {
      "cell_type": "code",
      "execution_count": null,
      "metadata": {
        "colab": {},
        "colab_type": "code",
        "id": "2Q7xuZLpUfeq",
        "tags": [],
        "trusted": false
      },
      "outputs": [],
      "source": [
        "x = 'Hello world'\n",
        "print(x[0:5])"
      ]
    },
    {
      "cell_type": "markdown",
      "metadata": {
        "colab_type": "text",
        "id": "w_9P6QqaUfet"
      },
      "source": [
        "In het volgende voorbeeld worden alle karakters vanaf het zevende karakter geselecteerd."
      ]
    },
    {
      "cell_type": "code",
      "execution_count": null,
      "metadata": {
        "colab": {},
        "colab_type": "code",
        "id": "3BbT5fKoUfet",
        "trusted": false
      },
      "outputs": [],
      "source": [
        "x = 'Hello world'\n",
        "print(x[6:])"
      ]
    },
    {
      "cell_type": "markdown",
      "metadata": {
        "colab_type": "text",
        "id": "O_q00X2bUfev"
      },
      "source": [
        "In het volgende voorbeeld worden de laatste vijf karakters geselecteerd."
      ]
    },
    {
      "cell_type": "code",
      "execution_count": null,
      "metadata": {
        "colab": {},
        "colab_type": "code",
        "id": "N51htv-PUfew",
        "trusted": false
      },
      "outputs": [],
      "source": [
        "x = 'Hello world'\n",
        "print(x[-5:])"
      ]
    },
    {
      "cell_type": "markdown",
      "metadata": {
        "colab_type": "text",
        "id": "dNqiZxLUUfey"
      },
      "source": [
        "Het is ook mogelijk om strings te vervangen. In het volgende voorbeeld wordt de string \"world\" vervangen door \"wereld\"."
      ]
    },
    {
      "cell_type": "code",
      "execution_count": null,
      "metadata": {
        "colab": {},
        "colab_type": "code",
        "id": "z4vjnizAUfey",
        "trusted": false
      },
      "outputs": [],
      "source": [
        "x = 'Hello world'\n",
        "y = x.replace('world','wereld')\n",
        "print(y)"
      ]
    },
    {
      "cell_type": "markdown",
      "metadata": {
        "colab_type": "text",
        "id": "bUuCgvy3Ufe1",
        "toc-hr-collapsed": true
      },
      "source": [
        "## Werken met nummers\n",
        "\n",
        "Een nummer staat nooit tussen enkele quotes of dubbele quotes. Het toekennen van een nummer aan een variabele gebeurt met het = teken. Als je een geheel getal toekent aan een variabele wordt het data type een `int`. Als je een decimaal getal toekent aan een variabele wordt het data type een `float`. Als je een geheel getal als `float` wilt definiëren, dan moet je het getal met een punt toekennen aan een variabele."
      ]
    },
    {
      "cell_type": "code",
      "execution_count": null,
      "metadata": {
        "colab": {},
        "colab_type": "code",
        "id": "xEVr2kTYUfe1",
        "trusted": false
      },
      "outputs": [],
      "source": [
        "x = 5\n",
        "print(type(x))"
      ]
    },
    {
      "cell_type": "code",
      "execution_count": null,
      "metadata": {
        "colab": {},
        "colab_type": "code",
        "id": "rLcsOWHoUfe3",
        "trusted": false
      },
      "outputs": [],
      "source": [
        "y = 5.5\n",
        "print(type(y))"
      ]
    },
    {
      "cell_type": "code",
      "execution_count": null,
      "metadata": {
        "colab": {},
        "colab_type": "code",
        "id": "Wr35t4roUfe6",
        "trusted": false
      },
      "outputs": [],
      "source": [
        "z = 5.\n",
        "print(type(z))"
      ]
    },
    {
      "cell_type": "markdown",
      "metadata": {
        "colab_type": "text",
        "id": "2EeHwFy-Ufe8"
      },
      "source": [
        "In berekeningen is het mogelijk om zowel integers en floats te gebruiken."
      ]
    },
    {
      "cell_type": "code",
      "execution_count": null,
      "metadata": {
        "colab": {},
        "colab_type": "code",
        "id": "XBPGa9KsUfe9",
        "tags": [],
        "trusted": false
      },
      "outputs": [],
      "source": [
        "x = 5\n",
        "y = 5.5\n",
        "z = x + y\n",
        "print(z)\n",
        "print(type(z))"
      ]
    },
    {
      "cell_type": "markdown",
      "metadata": {
        "colab_type": "text",
        "id": "0mjFEADPUfe_"
      },
      "source": [
        "De library *math* beidt een groot aantal mathematische functies, bijvoorbeeld voor worteltrekken. Hiervoor gebruik je de functie *sqrt*."
      ]
    },
    {
      "cell_type": "code",
      "execution_count": null,
      "metadata": {
        "colab": {},
        "colab_type": "code",
        "id": "zWiVQ0HUUfe_",
        "trusted": false
      },
      "outputs": [],
      "source": [
        "import math\n",
        "\n",
        "x = 5\n",
        "print(type(x))\n",
        "y = math.sqrt(x)\n",
        "print(y)\n",
        "print(type(y))"
      ]
    },
    {
      "cell_type": "markdown",
      "metadata": {
        "colab_type": "text",
        "id": "WEAi4dc4UffB"
      },
      "source": [
        "Meer informatie over de `math` library kan [hier](https://docs.python.org/3/library/math.html) gevonden worden."
      ]
    },
    {
      "cell_type": "markdown",
      "metadata": {
        "colab_type": "text",
        "id": "7bCX9ih7UffB"
      },
      "source": [
        "## Werken met booleans\n",
        "\n",
        "Een boolean variabele kan de waarde `true` of `false` hebben. Als je een vergelijking evalueert is de uitkomst of `true`of `false`. \n",
        "\n",
        "**Let op:** Als je checkt of twee waardes hetzelfde zijn gebruik je ==. Om een waarde aan een variabele toe te kennen, gebruik je =."
      ]
    },
    {
      "cell_type": "code",
      "execution_count": null,
      "metadata": {
        "colab": {},
        "colab_type": "code",
        "id": "93bnvouiUffC",
        "trusted": false
      },
      "outputs": [],
      "source": [
        "print(5 > 4)\n",
        "print(5 == 5)\n",
        "print(5 == 4)\n",
        "print(5 < 4)"
      ]
    },
    {
      "cell_type": "markdown",
      "metadata": {
        "colab_type": "text",
        "id": "kVUToI8oUffG",
        "toc-hr-collapsed": true
      },
      "source": [
        "## Werken met datum en tijd\n",
        "\n",
        "Datum en tijd zijn geen data types maar het is wel mogelijk om met datum en tijd te werken door gebruik te maken van de library **datetime**. Deze library moet geïmporteerd worden om met datum en tijd te kunnen werken. Met het commando `dir` krijg je een overzicht van alle functies in de library."
      ]
    },
    {
      "cell_type": "code",
      "execution_count": null,
      "metadata": {
        "colab": {},
        "colab_type": "code",
        "id": "u_YsJRgkUffH",
        "trusted": false
      },
      "outputs": [],
      "source": [
        "import datetime\n",
        "\n",
        "print(type(datetime))\n",
        "print(dir(datetime))"
      ]
    },
    {
      "cell_type": "markdown",
      "metadata": {
        "colab_type": "text",
        "id": "OtKPnCxvUffI"
      },
      "source": [
        "De huidige datum kan als volgt opgevraagd worden:"
      ]
    },
    {
      "cell_type": "code",
      "execution_count": null,
      "metadata": {
        "colab": {},
        "colab_type": "code",
        "id": "KVbV1YC-UffJ",
        "tags": [],
        "trusted": false
      },
      "outputs": [],
      "source": [
        "import datetime\n",
        "\n",
        "x = datetime.datetime.now()\n",
        "print(x)"
      ]
    },
    {
      "cell_type": "markdown",
      "metadata": {
        "colab_type": "text",
        "id": "xOzaThqHUffL"
      },
      "source": [
        "Het is ook mogelijk om zelf een datum en tijd te definiëren en met datums en tijd te rekenen om het verschil tussen twee tijdstippen uit te rekenen.  "
      ]
    },
    {
      "cell_type": "code",
      "execution_count": 1,
      "metadata": {
        "colab": {},
        "colab_type": "code",
        "id": "t5S0HfsmUffL",
        "trusted": false
      },
      "outputs": [
        {
          "name": "stdout",
          "output_type": "stream",
          "text": [
            "2019-05-17 15:45:00\n",
            "2020-05-17 12:50:21\n",
            "365 days, 21:05:21\n",
            "75921\n"
          ]
        }
      ],
      "source": [
        "import datetime\n",
        "\n",
        "x = datetime.datetime(2019, 5, 17, 15, 45, 00)\n",
        "print(x)\n",
        "\n",
        "y = datetime.datetime(2020, 5, 17, 12, 50, 21)\n",
        "print(y)\n",
        "\n",
        "# Bereken het tijdsverschil tussen x en y in dagen, uren, minuten en seconden\n",
        "z = y - x\n",
        "print(z) \n",
        "\n",
        "# Print tijdsverschil in seconden\n",
        "print(z.seconds)"
      ]
    },
    {
      "cell_type": "markdown",
      "metadata": {
        "colab_type": "text",
        "id": "oGZrQEPVUffO"
      },
      "source": [
        "Meer informatie over de `datetime` library kan [hier](https://docs.python.org/3/library/datetime.html) gevonden worden. "
      ]
    },
    {
      "cell_type": "markdown",
      "metadata": {
        "colab_type": "text",
        "id": "a2_ajgz1UffO"
      },
      "source": [
        "## Werken met lijsten\n",
        "\n",
        "Een `list` is een geordende verzameling van data elementen (bijvoorbeeld integers, floats of strings). De elementen in een lijst zijn geordend wat betekent dat ieder element op basis van een index (positie in de lijst) uit de lijst opgehaald kan worden. \n",
        "\n",
        "Je maakt een nieuwe lege lijst met blokhaken. Met de functie append kan je elementen aan een lijst toevoegen. "
      ]
    },
    {
      "cell_type": "code",
      "execution_count": null,
      "metadata": {
        "colab": {},
        "colab_type": "code",
        "id": "k5-L1eRrUffP",
        "trusted": false
      },
      "outputs": [],
      "source": [
        "my_list = []\n",
        "my_list.append(1)\n",
        "my_list.append(2)\n",
        "my_list.append(3)\n",
        "print(my_list)"
      ]
    },
    {
      "cell_type": "markdown",
      "metadata": {
        "colab_type": "text",
        "id": "5f_wma4JUffQ"
      },
      "source": [
        "Het is ook mogelijk om een lijst met elementen te creeëren."
      ]
    },
    {
      "cell_type": "code",
      "execution_count": null,
      "metadata": {
        "colab": {},
        "colab_type": "code",
        "id": "8b-NXJ8TUffR",
        "trusted": false
      },
      "outputs": [],
      "source": [
        "my_list = [1, 2, 3]\n",
        "my_list.append(1)\n",
        "my_list.append(2)\n",
        "my_list.append(3)\n",
        "print(len(my_list))"
      ]
    },
    {
      "cell_type": "markdown",
      "metadata": {
        "colab_type": "text",
        "id": "5UADvo1TUffT"
      },
      "source": [
        "Je kan op basis van positie in de lijst (index) een element uit de lijst ophalen.\n",
        "\n",
        "**Let op:** Programmeurs beginnen bij 0 te tellen!"
      ]
    },
    {
      "cell_type": "code",
      "execution_count": null,
      "metadata": {
        "colab": {},
        "colab_type": "code",
        "id": "La9SYS3rUffT",
        "trusted": false
      },
      "outputs": [],
      "source": [
        "my_list = [1, 2, 3]\n",
        "print(my_list[1])"
      ]
    },
    {
      "cell_type": "markdown",
      "metadata": {
        "colab_type": "text",
        "id": "BdrIZmCHUffV"
      },
      "source": [
        "Het is ook mogelijk om alle elementen uit een lijst op te halen via een `for` lus. De `for` lus wordt in het volgende hoofdstuk in detail behandeld."
      ]
    },
    {
      "cell_type": "code",
      "execution_count": null,
      "metadata": {
        "colab": {},
        "colab_type": "code",
        "id": "tYy9biO9UffV",
        "trusted": false
      },
      "outputs": [],
      "source": [
        "my_list = [1, 2, 3, 4]\n",
        "for element in my_list :\n",
        "    print(element)"
      ]
    },
    {
      "cell_type": "markdown",
      "metadata": {
        "colab_type": "text",
        "id": "YYkyUcceUffY"
      },
      "source": [
        "Het aantal elementen in een lijst is als volgt te bepalen."
      ]
    },
    {
      "cell_type": "code",
      "execution_count": null,
      "metadata": {
        "colab": {},
        "colab_type": "code",
        "id": "frJyCbIfUffY",
        "trusted": false
      },
      "outputs": [],
      "source": [
        "my_list = [1, 2, 3, 4]\n",
        "print(len(my_list))"
      ]
    },
    {
      "cell_type": "markdown",
      "metadata": {},
      "source": [
        "# Maken van een scatterplot\n",
        "\n",
        "In Python kan je grafieken maken met de module *matplotlib*. Een overzicht van alle mogelijkheden die deze module biedt, is [hier](https://matplotlib.org/stable/gallery/index.html) te vinden.\n",
        "\n",
        "Met behulp van twee *numpy* lijsten kan je eenvoudig een scatterplot maken zoals hieronder gedemonstreerd wordt. Bij het definieren van de lijsten met waardes voor de x- en y-as is het belangrijk dat beide lijsten hetzelfde aantal waardes hebben. Nadere toelichting is [hier](https://www.w3schools.com/python/matplotlib_plotting.asp) te vinden.\n",
        "\n",
        "**Let op:** In dit voorbeeld is *numpy* afgekort tot *np* en *matplotlib.pyplot* tot *plt* voor een betere leesbaarheid van code. Dit is een algemeen aanvaarde conventie die je moet volgen, zodat iedereen die met jouw code werkt deze gemakkelijk kan begrijpen."
      ]
    },
    {
      "cell_type": "code",
      "execution_count": 3,
      "metadata": {},
      "outputs": [
        {
          "data": {
            "image/png": "[encoded data removed]",
            "text/plain": [
              "<Figure size 432x288 with 1 Axes>"
            ]
          },
          "metadata": {
            "needs_background": "light"
          },
          "output_type": "display_data"
        }
      ],
      "source": [
        "# Importeren modules\n",
        "import matplotlib.pyplot as plt\n",
        "import numpy as np\n",
        "\n",
        "# Maak lijst met x waardes\n",
        "xpoints = []\n",
        "xpoints.append(7)\n",
        "xpoints.append(3)\n",
        "\n",
        "# Maak lijst met y waardes\n",
        "ypoints = []\n",
        "ypoints.append(9)\n",
        "ypoints.append(5)\n",
        "\n",
        "# Converteer naa numpy arrays\n",
        "x = np.array(xpoints)\n",
        "y = np.array(ypoints)\n",
        "\n",
        "# Plot lijn met kleur blauw\n",
        "plt.plot(x, y, color='#0000FF')\n",
        "\n",
        "# Plot punten met kleur rood\n",
        "plt.plot(x, y, 'o', color='#FF0000')\n",
        "\n",
        "# Toevoegen annotatie\n",
        "plt.title('Mijn eerste scatterplot')\n",
        "plt.xlabel('x-as')\n",
        "plt.ylabel('y-as')\n",
        "\n",
        "# Toevoegen van gridlijnen\n",
        "plt.grid(b=True, which='major', color='#666666', linestyle='--', alpha=0.5)\n",
        "\n",
        "# Plot figuur\n",
        "plt.show()"
      ]
    },
    {
      "cell_type": "markdown",
      "metadata": {
        "colab_type": "text",
        "id": "eAlGGhwlUffa",
        "toc-hr-collapsed": false
      },
      "source": [
        "# Flow control\n",
        "\n",
        "De flow control bepaalt de volgorde van uitvoering van instructies van een computer programma. De flow control wordt bepaald door beslissingsstructuren (het `if` statement) en besturingsstructuren (`while` en `for` lussen). In beslissingsstructuren wordt een uitvoeringsblok afhankelijk van de conditie uitgevoerd. Een uitvoeringsblok bestaat uit één of meer instructies die altijd als één geheel uitgevoerd worden. In een besturingsstructuur (lus) kan een uitvoeringsblok meerdere malen doorlopen worden. Elke keer dat een blok doorlopen wordt, wordt een iteratie genoemd. \n",
        "\n",
        "**Let op:** In Python wordt een uitvoeringsblok aangegeven door middel van inspringen. Statements die elkaar opvolgen en hetzelfde niveau van inspringing hebben worden beschouwd als één uitvoeringsblok. De manier van programmeren draagt bij aan de leesbaarheid van de code."
      ]
    },
    {
      "cell_type": "markdown",
      "metadata": {
        "colab_type": "text",
        "id": "AxVHCoAlUffa",
        "toc-hr-collapsed": true
      },
      "source": [
        "## Het `if` statement\n",
        "\n",
        "Het `if` statement wordt gebruikt om beslissingen te nemen met betrekking tot het wel of niet doorlopen van een uitvoeringsblok. Het `if` statement evalueert een boolean expressie. Deze boolean expressie levert of `True` of `False`. Bij `True` wordt een blok met instructies wel uitgevoerd en bij `False` wordt een blok met instructie niet uitgevoerd. Het is mogelijk om het `if` statement uit te breiden met `elif` en/of `else` om aan te geven wat er gedaan moet worden als een boolean expressie een `False` oplevert. "
      ]
    },
    {
      "cell_type": "code",
      "execution_count": null,
      "metadata": {
        "colab": {},
        "colab_type": "code",
        "id": "aiV0j3UXUffb",
        "trusted": false
      },
      "outputs": [],
      "source": [
        "x = 3\n",
        "if x > 4 :\n",
        "    print('x groter dan 4')\n",
        "\n",
        "if x == 4:\n",
        "    print('x is 4')\n",
        "if x < 4 :\n",
        "    print('x kleiner dan 4')\n",
        "print('Ingesprongen')"
      ]
    },
    {
      "cell_type": "code",
      "execution_count": null,
      "metadata": {
        "colab": {},
        "colab_type": "code",
        "id": "Sq__gknAUffd",
        "trusted": false
      },
      "outputs": [],
      "source": [
        "x = 4\n",
        "if x > 4 :\n",
        "    print('x groter dan 4')\n",
        "elif x == 4:\n",
        "    print('x is 4')\n",
        "else :\n",
        "    print('x kleiner 4')"
      ]
    },
    {
      "cell_type": "code",
      "execution_count": null,
      "metadata": {
        "colab": {},
        "colab_type": "code",
        "id": "umVPbJnxUfff",
        "trusted": false
      },
      "outputs": [],
      "source": [
        "x = 3\n",
        "if x > 4 :\n",
        "    print('x groter dan 4')\n",
        "elif x == 4:\n",
        "    print('x is 4')\n",
        "else :\n",
        "    print('x kleiner dan 4')"
      ]
    },
    {
      "cell_type": "markdown",
      "metadata": {
        "colab_type": "text",
        "id": "lsgyoyOIUffh"
      },
      "source": [
        "De volgende condities kunnen geëvalueerd worden in een `if` statement:\n",
        "- a == b (gelijk)\n",
        "- a != b (niet gelijk)\n",
        "- a < b (kleiner)\n",
        "- a <= b (kleiner of gelijk)\n",
        "- a > b (groter)\n",
        "- a >= b (groter of gelijk)\n",
        "\n",
        "Het is mogelijk om verschillende of verschillende boolean expressies te combineren met de logische operatoren `and` en `or`. "
      ]
    },
    {
      "cell_type": "code",
      "execution_count": null,
      "metadata": {
        "colab": {},
        "colab_type": "code",
        "id": "P0M9MX6uUffi",
        "trusted": false
      },
      "outputs": [],
      "source": [
        "x = 4\n",
        "y = 4\n",
        "if x == 3 and y == 4:\n",
        "    print('Beide boolean expressies zijn waar')"
      ]
    },
    {
      "cell_type": "code",
      "execution_count": null,
      "metadata": {
        "colab": {},
        "colab_type": "code",
        "id": "lZ6jgfEDUffk",
        "trusted": false
      },
      "outputs": [],
      "source": [
        "x = 3 \n",
        "y = 4\n",
        "if x == 4 or y == 4:\n",
        "    print('Een van beide of beide boolean expressies zijn beide waar')"
      ]
    },
    {
      "cell_type": "code",
      "execution_count": null,
      "metadata": {
        "colab": {},
        "colab_type": "code",
        "id": "BLyhl_JlUffn",
        "trusted": false
      },
      "outputs": [],
      "source": [
        "x = 5\n",
        "if x == 5 :\n",
        "    print('Deze regel wordt alleen geprint als x = 5')\n",
        "print('Deze regel wordt altijd geprint')"
      ]
    },
    {
      "cell_type": "code",
      "execution_count": null,
      "metadata": {
        "colab": {},
        "colab_type": "code",
        "id": "g2shbvB_Uffo",
        "trusted": false
      },
      "outputs": [],
      "source": [
        "x = 4\n",
        "if x == 5 :\n",
        "    print('Deze regel wordt alleen geprint als x = 5')\n",
        "print('Deze regel wordt altijd geprint')"
      ]
    },
    {
      "cell_type": "markdown",
      "metadata": {
        "colab_type": "text",
        "id": "TOpDTpYPUffr"
      },
      "source": [
        "Het `IF` statement kan je ook gebruiken om te zoeken in strings"
      ]
    },
    {
      "cell_type": "code",
      "execution_count": null,
      "metadata": {
        "colab": {},
        "colab_type": "code",
        "id": "fdEZsuNYUffs",
        "trusted": false
      },
      "outputs": [],
      "source": [
        "x = 'Hello world'\n",
        "if 'world' in x:\n",
        "    print('world gevonden')\n",
        "if not 'wereld' in x:\n",
        "    print('wereld niet gevonden')"
      ]
    },
    {
      "cell_type": "markdown",
      "metadata": {
        "colab_type": "text",
        "id": "ZUjsT9yeUfft",
        "toc-hr-collapsed": false
      },
      "source": [
        "## De `while` lus\n",
        "\n",
        "In een `while` lus wordt een uitvoeringsblok uitgevoerd zolang er aan een conditie voldaan wordt. In het volgende voorbeeld wordt de `while` lus net zo lang doorlopen totdat de variabele *teller* de waarde 10 heeft. Elke keer dat de lus doorlopen wordt, wordt de teller met 1 opgehoogd.\n",
        "\n",
        "**Let op:** Binnen de `while` lus moeten twee commando's uitgevoerd worden, het printen van de teller en het verhogen van de teller met 1. Deze commando's vormen samen een uitvoeringsblok en moeten hetzelfde niveau van inspringen hebben."
      ]
    },
    {
      "cell_type": "code",
      "execution_count": null,
      "metadata": {
        "colab": {},
        "colab_type": "code",
        "id": "QjNlEJqVUffu",
        "trusted": false
      },
      "outputs": [],
      "source": [
        "teller = 0\n",
        "while teller < 10 :\n",
        "    print(teller)\n",
        "    teller = teller + 1\n",
        "print('Einde van while lus')"
      ]
    },
    {
      "cell_type": "markdown",
      "metadata": {
        "colab_type": "text",
        "id": "xdWXL8eOUffw",
        "toc-hr-collapsed": true
      },
      "source": [
        "## De `for` lus\n",
        "\n",
        "De `for` lus is een tellergestuurde lus en bedoeld om een uitvoeringsblok een vooraf ingesteld aantal keren te doorlopen. De `range()` functie kan gebruikt worden om het aantal keren dat een uitvoeringsblok uitgevoerd moet worden aan te geven. De `range()` functie begint default bij 0 en eindigt bij de waarde die meegegeven wordt. Per aanroep wordt de waarde met 1 opgehoogd. Zolang de waarde kleiner is dan de opgegeven eindwaarde wordt de opgehoogd. Het is ook mogelijk een andere waarde dan 0 als startwaarde mee te geven."
      ]
    },
    {
      "cell_type": "code",
      "execution_count": 4,
      "metadata": {
        "colab": {},
        "colab_type": "code",
        "id": "pBQ104RoUffw",
        "outputId": "04cbb75b-66c0-44e0-8bcc-09a951a911f2",
        "trusted": false
      },
      "outputs": [
        {
          "name": "stdout",
          "output_type": "stream",
          "text": [
            "0\n",
            "1\n",
            "2\n",
            "3\n",
            "4\n",
            "5\n",
            "Einde van for lus\n"
          ]
        }
      ],
      "source": [
        "for x in range(6) :\n",
        "    print(x)\n",
        "print('Einde van for lus')"
      ]
    },
    {
      "cell_type": "code",
      "execution_count": null,
      "metadata": {
        "colab": {},
        "colab_type": "code",
        "id": "l0ZDbYelUffz",
        "outputId": "54bb9d37-bcd4-4249-8007-f7749852bf5b",
        "trusted": false
      },
      "outputs": [],
      "source": [
        "for x in range(4,6) :\n",
        "    print(x)\n",
        "print('Einde van for lus')"
      ]
    },
    {
      "cell_type": "markdown",
      "metadata": {
        "colab_type": "text",
        "id": "SGVlC5fiUff1"
      },
      "source": [
        "Een `for` lus kan ook gebruikt worden om de individuele elementen van een lijst te verwerken. Omdat een string een lijst van karakters is, is het mogelijk om de karakters van een string te printen in een `for` lus."
      ]
    },
    {
      "cell_type": "code",
      "execution_count": null,
      "metadata": {
        "colab": {},
        "colab_type": "code",
        "id": "j7nb1BFFUff2",
        "outputId": "715b0ea2-be8b-4b7a-db6d-dcb4335f7d0a",
        "trusted": false
      },
      "outputs": [],
      "source": [
        "s = 'Hello world'\n",
        "for k in s :\n",
        "    print(k)\n",
        "print('Einde van for lus')"
      ]
    },
    {
      "cell_type": "markdown",
      "metadata": {
        "colab_type": "text",
        "id": "58d667s0Uff4"
      },
      "source": [
        "## Functies in Python\n",
        "\n",
        "Een functie is een codeblok dat alleen uitgevoerd wordt als het vanuit een andere codeblok aangeroepen wordt. Je schrijft een functie als je functionaliteit wilt het gebruiken in je programma of om je code overzichtelijk te houden.\n",
        "\n",
        "Een function begint met `def` gevolgd door de functie naam. Daarna volgen tussen haakjes de lijst van parameters die aan de functie meegegeven moetn worden. Met `return` wordt het resultaat van een functie teruggegeven. Het is niet verplicht dat een functie een resultaat teruggeeft. \n",
        "\n",
        "Je begint altijd met de definitie van de functie. "
      ]
    },
    {
      "cell_type": "code",
      "execution_count": null,
      "metadata": {
        "colab": {},
        "colab_type": "code",
        "id": "95p0aEZ8Uff4",
        "trusted": false
      },
      "outputs": [],
      "source": [
        "# Functie definitie\n",
        "def optellen(getal1, getal2) :\n",
        "    uitkomst = getal1 + getal2\n",
        "    return uitkomst"
      ]
    },
    {
      "cell_type": "markdown",
      "metadata": {
        "colab_type": "text",
        "id": "FYmXaT-LUff6"
      },
      "source": [
        "Daarna kan je een functie één of meerdere keren aanroepen."
      ]
    },
    {
      "cell_type": "code",
      "execution_count": null,
      "metadata": {
        "colab": {},
        "colab_type": "code",
        "id": "neNsBecMUff7",
        "outputId": "750673e4-e51e-429b-8727-561cc21898fb",
        "trusted": false
      },
      "outputs": [],
      "source": [
        "# 1e keer functie aanroep\n",
        "a = 3\n",
        "b = 6\n",
        "som = optellen(a, b)\n",
        "print(som)\n",
        "\n",
        "# 2e keer functie aanroep\n",
        "a = 70\n",
        "b = 60\n",
        "som = optellen(a, b)\n",
        "print(som)"
      ]
    },
    {
      "cell_type": "markdown",
      "metadata": {
        "colab_type": "text",
        "id": "ETHwN3yhUff9"
      },
      "source": [
        "## Foutafhandeling in Python\n",
        "\n",
        "Fouten die optreden omdat je code niet aan de syntax van Python voldoet, bijvoorbeeld omdat je niet bestaande reserved words gebruikt, worden syntax errors genoemd. Voordat een Python script uitgevoerd wordt, wordt gecheckt of de syntax correct is. Is dit niet het geval, dan krijg je een syntax error. "
      ]
    },
    {
      "cell_type": "code",
      "execution_count": null,
      "metadata": {
        "colab": {},
        "colab_type": "code",
        "id": "xlU4k8W8Uff9",
        "outputId": "c2ad9c63-eebe-4a1c-fd71-e032596c95ac",
        "trusted": false
      },
      "outputs": [],
      "source": [
        "# Script met syntax error\n",
        "a wordt 5\n",
        "if a == 5:\n",
        "print(\"a=5\")"
      ]
    },
    {
      "cell_type": "markdown",
      "metadata": {
        "colab_type": "text",
        "id": "MjxqvOkuUff_"
      },
      "source": [
        "Soms treden er fouten op bij het uitvoeren van de code. Deze fouten worden runtime errors genoemd. Een voorbeeld van een runtime error is delen door nul of niet kunnen aanloggen op een database omdat de gebruiker een verkeerd wachtwoord opgegeven heeft. Een runtime error (fout tijdens uitvoeren van de code) genereert een exceptie. "
      ]
    },
    {
      "cell_type": "code",
      "execution_count": 5,
      "metadata": {
        "colab": {},
        "colab_type": "code",
        "id": "dKq7Fh7HUfgA",
        "outputId": "ddc27d3c-d70d-4737-a21c-972548c5263c",
        "trusted": false
      },
      "outputs": [
        {
          "ename": "ZeroDivisionError",
          "evalue": "division by zero",
          "output_type": "error",
          "traceback": [
            "\u001b[1;31m---------------------------------------------------------------------------\u001b[0m",
            "\u001b[1;31mZeroDivisionError\u001b[0m                         Traceback (most recent call last)",
            "\u001b[1;32m<ipython-input-5-8d1ee10c7236>\u001b[0m in \u001b[0;36m<module>\u001b[1;34m\u001b[0m\n\u001b[0;32m      3\u001b[0m \u001b[1;33m\u001b[0m\u001b[0m\n\u001b[0;32m      4\u001b[0m \u001b[1;31m# Deel a door b\u001b[0m\u001b[1;33m\u001b[0m\u001b[1;33m\u001b[0m\u001b[0m\n\u001b[1;32m----> 5\u001b[1;33m \u001b[0mc\u001b[0m \u001b[1;33m=\u001b[0m \u001b[0ma\u001b[0m\u001b[1;33m/\u001b[0m\u001b[0mb\u001b[0m\u001b[1;33m\u001b[0m\u001b[0m\n\u001b[0m\u001b[0;32m      6\u001b[0m \u001b[0mprint\u001b[0m\u001b[1;33m(\u001b[0m\u001b[1;34m\"einde bewerking\"\u001b[0m\u001b[1;33m)\u001b[0m\u001b[1;33m\u001b[0m\u001b[0m\n",
            "\u001b[1;31mZeroDivisionError\u001b[0m: division by zero"
          ]
        }
      ],
      "source": [
        "a = 5\n",
        "b = 0\n",
        "\n",
        "# Deel a door b\n",
        "c = a/b\n",
        "print(\"einde bewerking\")"
      ]
    },
    {
      "cell_type": "markdown",
      "metadata": {
        "colab_type": "text",
        "id": "zSdxGHGpUfgB"
      },
      "source": [
        "Een exceptie kan je opvangen zodat je runtime errors op een goede manier kan afhandelen, bijvoorbeeld door te tonen wat fout gaat en je programma niet abrupt stopt. Om je exceptie op te vangen en af te handelen gebruik je de `try ... except` constructie. Alle instructie kunnen in het `try` codeblok. De acties die uitgevoerd moeten worden als er een exceptie optreedt komen in het `except` codeblok."
      ]
    },
    {
      "cell_type": "code",
      "execution_count": 6,
      "metadata": {
        "colab": {},
        "colab_type": "code",
        "id": "FMyjcPiiUfgC",
        "outputId": "32838d1b-196c-425b-936f-83db3fad3395",
        "trusted": false
      },
      "outputs": [
        {
          "name": "stdout",
          "output_type": "stream",
          "text": [
            "Er is iets fout gegaan\n",
            "einde bewerking\n",
            "5.0\n",
            "einde bewerking\n"
          ]
        }
      ],
      "source": [
        "# Geef variabelen een waarde\n",
        "a = 5\n",
        "b = 0\n",
        "\n",
        "# Deel a door b\n",
        "try:\n",
        "    c = a/b\n",
        "    print(c)\n",
        "except: \n",
        "    print(\"Er is iets fout gegaan\")\n",
        "print(\"einde bewerking\")    \n",
        "\n",
        "# Geef variabelen een waarde\n",
        "a = 5\n",
        "b = 1    \n",
        "\n",
        "# Deel a door b\n",
        "try:\n",
        "    c = a/b\n",
        "    print(c)\n",
        "except: \n",
        "    print(\"Er is iets fout gegaan\")\n",
        "print(\"einde bewerking\")"
      ]
    },
    {
      "cell_type": "markdown",
      "metadata": {
        "colab_type": "text",
        "id": "ZXDv2ro0UfgF"
      },
      "source": [
        "Bij deze manier van afhandeling zie je niet wat er fout gegaan is. Python heeft ook de mogelijkheid om de opgetreden exceptie op te vangen en te tonen. Hiermee kan je aan de gebruiker aangeven wat er fout gegaan is zodat dat de uitvoering van het programma stopt. "
      ]
    },
    {
      "cell_type": "code",
      "execution_count": null,
      "metadata": {
        "colab": {},
        "colab_type": "code",
        "id": "1oJs7EjVUfgF",
        "outputId": "b2f060fd-292d-4c12-dd3c-6779a7040305",
        "trusted": false
      },
      "outputs": [],
      "source": [
        "# Geef variabelen een waarde\n",
        "a = 5\n",
        "b = 0\n",
        "\n",
        "# Deel a door b\n",
        "try:\n",
        "    c = a/b\n",
        "    print(c)\n",
        "except Exception as e: \n",
        "    print(e)\n",
        "print(\"einde bewerking\")"
      ]
    }
  ],
  "metadata": {
    "colab": {
      "collapsed_sections": [
        "bUuCgvy3Ufe1",
        "7bCX9ih7UffB",
        "kVUToI8oUffG",
        "a2_ajgz1UffO",
        "AxVHCoAlUffa",
        "ZUjsT9yeUfft",
        "xdWXL8eOUffw",
        "58d667s0Uff4",
        "ETHwN3yhUff9"
      ],
      "name": "Introductie Python.ipynb",
      "provenance": []
    },
    "kernelspec": {
      "display_name": "Python 3",
      "language": "python",
      "name": "python3"
    },
    "language_info": {
      "codemirror_mode": {
        "name": "ipython",
        "version": 3
      },
      "file_extension": ".py",
      "mimetype": "text/x-python",
      "name": "python",
      "nbconvert_exporter": "python",
      "pygments_lexer": "ipython3",
      "version": "3.6.4"
    },
    "toc-showcode": false,
    "toc-showmarkdowntxt": true
  },
  "nbformat": 4,
  "nbformat_minor": 1
}
